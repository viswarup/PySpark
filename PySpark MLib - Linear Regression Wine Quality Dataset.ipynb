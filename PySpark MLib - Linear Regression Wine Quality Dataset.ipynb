{
 "cells": [
  {
   "cell_type": "code",
   "execution_count": 1,
   "metadata": {
    "collapsed": true
   },
   "outputs": [],
   "source": [
    "import os\n",
    "import sys\n",
    "\n",
    "spark_path = '/Users/pradmishra/Downloads/spark-2.1.0-bin-hadoop2.7'\n",
    "os.environ['SPARK_HOME']= spark_path\n",
    "os.environ['HADOOP_HOME']=spark_path\n",
    "sys.path.append(spark_path+'/bin')\n",
    "sys.path.append(spark_path+'/python')\n",
    "sys.path.append(spark_path+'/python/pyspark')\n",
    "sys.path.append(spark_path+'/python/lib')\n",
    "sys.path.append(spark_path+'/python/lib/pyspark.zip')\n",
    "sys.path.append(spark_path+'/python/lib/py4j-0.10.4-src.zip')"
   ]
  },
  {
   "cell_type": "code",
   "execution_count": 2,
   "metadata": {
    "collapsed": true
   },
   "outputs": [],
   "source": [
    "from pyspark.context import SparkContext\n",
    "from pyspark.sql.session import SparkSession\n",
    "sc = SparkContext('local')\n",
    "spark = SparkSession(sc)\n"
   ]
  },
  {
   "cell_type": "code",
   "execution_count": 5,
   "metadata": {},
   "outputs": [
    {
     "data": {
      "text/plain": [
       "[Row(fixed acidity=7.4, volatile acidity=0.7, citric acid=0.0, residual sugar=1.9, chlorides=0.076, free sulfur dioxide=11.0, total sulfur dioxide=34.0, density=0.9978, pH=3.51, sulphates=0.56, alcohol=9.4, quality=5)]"
      ]
     },
     "execution_count": 5,
     "metadata": {},
     "output_type": "execute_result"
    }
   ],
   "source": [
    "wine_df = spark.read.csv('/Users/pradmishra/Documents/winequality-red.csv', header = True, inferSchema=True, sep =';')\n",
    "wine_df.take(1)"
   ]
  },
  {
   "cell_type": "code",
   "execution_count": 6,
   "metadata": {},
   "outputs": [
    {
     "name": "stdout",
     "output_type": "stream",
     "text": [
      "+-------+------------------+------------------+\n",
      "|summary|           alcohol|           quality|\n",
      "+-------+------------------+------------------+\n",
      "|  count|              1599|              1599|\n",
      "|   mean|10.422983114446502|5.6360225140712945|\n",
      "| stddev|1.0656675818473935|0.8075694397347051|\n",
      "|    min|               8.4|                 3|\n",
      "|    max|              14.9|                 8|\n",
      "+-------+------------------+------------------+\n",
      "\n"
     ]
    }
   ],
   "source": [
    "wine_df.select(\"alcohol\",\"quality\").describe().show()"
   ]
  },
  {
   "cell_type": "code",
   "execution_count": 8,
   "metadata": {},
   "outputs": [
    {
     "name": "stdout",
     "output_type": "stream",
     "text": [
      "('Correlation to Target for ', 'fixed acidity', 0.12405164911322263)\n",
      "('Correlation to Target for ', 'volatile acidity', -0.3905577802640061)\n",
      "('Correlation to Target for ', 'citric acid', 0.22637251431804048)\n",
      "('Correlation to Target for ', 'residual sugar', 0.013731637340065798)\n",
      "('Correlation to Target for ', 'chlorides', -0.12890655993005293)\n",
      "('Correlation to Target for ', 'free sulfur dioxide', -0.05065605724427597)\n",
      "('Correlation to Target for ', 'total sulfur dioxide', -0.18510028892653774)\n",
      "('Correlation to Target for ', 'density', -0.17491922778336474)\n",
      "('Correlation to Target for ', 'pH', -0.0577313912053826)\n",
      "('Correlation to Target for ', 'sulphates', 0.25139707906925995)\n",
      "('Correlation to Target for ', 'alcohol', 0.4761663240011364)\n",
      "('Correlation to Target for ', 'quality', 1.0)\n"
     ]
    }
   ],
   "source": [
    "import six\n",
    "for i in wine_df.columns:\n",
    "    if not( isinstance(wine_df.select(i).take(1)[0][0], six.string_types)):\n",
    "        print( \"Correlation to Target for \", i, wine_df.stat.corr('quality',i))"
   ]
  },
  {
   "cell_type": "code",
   "execution_count": 9,
   "metadata": {
    "collapsed": true
   },
   "outputs": [],
   "source": [
    "wine_df = wine_df.drop(\"residual sugar\").drop(\"free sulfur dioxide\") \\\n",
    "                       .drop(\"pH\").drop(\"density\") \\\n",
    "                       .drop(\"chlorides\").drop('fixed acidity')"
   ]
  },
  {
   "cell_type": "code",
   "execution_count": 10,
   "metadata": {},
   "outputs": [
    {
     "data": {
      "text/plain": [
       "[Row(volatile acidity=0.7, citric acid=0.0, total sulfur dioxide=34.0, sulphates=0.56, alcohol=9.4, quality=5, features=DenseVector([0.7, 0.0, 34.0, 0.56, 9.4])),\n",
       " Row(volatile acidity=0.88, citric acid=0.0, total sulfur dioxide=67.0, sulphates=0.68, alcohol=9.8, quality=5, features=DenseVector([0.88, 0.0, 67.0, 0.68, 9.8])),\n",
       " Row(volatile acidity=0.76, citric acid=0.04, total sulfur dioxide=54.0, sulphates=0.65, alcohol=9.8, quality=5, features=DenseVector([0.76, 0.04, 54.0, 0.65, 9.8]))]"
      ]
     },
     "execution_count": 10,
     "metadata": {},
     "output_type": "execute_result"
    }
   ],
   "source": [
    "from pyspark.ml.feature import VectorAssembler\n",
    "\n",
    "vectorAssembler = VectorAssembler(inputCols = ['volatile acidity', 'citric acid', 'total sulfur dioxide', 'sulphates', 'alcohol'], outputCol = 'features')\n",
    "vwine_df = vectorAssembler.transform(wine_df)\n",
    "vwine_df.take(3)"
   ]
  },
  {
   "cell_type": "markdown",
   "metadata": {},
   "source": [
    "# Linear Regression"
   ]
  },
  {
   "cell_type": "code",
   "execution_count": 11,
   "metadata": {
    "collapsed": true
   },
   "outputs": [],
   "source": [
    "splits = vwine_df.randomSplit([0.7, 0.3])\n",
    "train_df = splits[0]\n",
    "test_df = splits[1]"
   ]
  },
  {
   "cell_type": "code",
   "execution_count": 12,
   "metadata": {},
   "outputs": [
    {
     "name": "stdout",
     "output_type": "stream",
     "text": [
      "Coefficients: [-1.23193967273,-0.00623134264415,-0.00201689017455,0.69964838906,0.284847164855]\n",
      "Intercept: 2.94453679405\n"
     ]
    }
   ],
   "source": [
    "from pyspark.ml.regression import LinearRegression\n",
    "\n",
    "lr = LinearRegression(featuresCol = 'features', labelCol='quality', maxIter=10)\n",
    "lr_model = lr.fit(train_df)\n",
    "print(\"Coefficients: \" + str(lr_model.coefficients))\n",
    "print(\"Intercept: \" + str(lr_model.intercept))"
   ]
  },
  {
   "cell_type": "code",
   "execution_count": 13,
   "metadata": {},
   "outputs": [
    {
     "name": "stdout",
     "output_type": "stream",
     "text": [
      "+------------------+-------+--------------------+\n",
      "|        prediction|quality|            features|\n",
      "+------------------+-------+--------------------+\n",
      "|  6.67295927293042|      7|[0.12,0.45,21.0,0...|\n",
      "| 6.592076034536409|      6|[0.16,0.44,31.0,0...|\n",
      "| 6.325598700656357|      6|[0.16,0.64,52.0,0...|\n",
      "| 6.426045312002804|      6|[0.18,0.37,109.0,...|\n",
      "| 6.454609438896978|      5|[0.18,0.4,67.0,0....|\n",
      "| 6.228836496622495|      6|[0.18,0.51,23.0,0...|\n",
      "| 6.320390021914953|      6|[0.19,0.42,30.0,0...|\n",
      "| 6.230954559801308|      7|[0.21,0.37,10.0,0...|\n",
      "|6.0673756257525095|      5|[0.21,0.52,23.0,0...|\n",
      "| 6.158161515419437|      6|[0.22,0.24,28.0,0...|\n",
      "| 6.158161515419437|      6|[0.22,0.24,28.0,0...|\n",
      "| 6.481272713052332|      6|[0.23,0.37,60.0,0...|\n",
      "| 6.126148505571308|      5|[0.23,0.4,67.0,0....|\n",
      "| 6.505716630256307|      6|[0.23,0.42,17.0,0...|\n",
      "|  6.03470657845862|      6|[0.24,0.33,73.0,0...|\n",
      "| 6.364884614894949|      6|[0.24,0.34,22.0,0...|\n",
      "| 6.412862713794567|      7|[0.24,0.42,22.0,1...|\n",
      "| 6.360539540925203|      7|[0.24,0.47,24.0,0...|\n",
      "|5.9785410216335695|      5|[0.24,0.49,28.0,0...|\n",
      "| 6.006440273789728|      7|[0.25,0.34,67.0,0...|\n",
      "+------------------+-------+--------------------+\n",
      "only showing top 20 rows\n",
      "\n"
     ]
    }
   ],
   "source": [
    "predictions = lr_model.transform(test_df)\n",
    "predictions.select(\"prediction\",\"quality\",\"features\").show()"
   ]
  },
  {
   "cell_type": "code",
   "execution_count": 14,
   "metadata": {},
   "outputs": [
    {
     "data": {
      "text/plain": [
       "0.34785214379554497"
      ]
     },
     "execution_count": 14,
     "metadata": {},
     "output_type": "execute_result"
    }
   ],
   "source": [
    "#Find R2 for Linear Regression\n",
    "from pyspark.ml.evaluation import RegressionEvaluator\n",
    "evaluator = RegressionEvaluator(predictionCol=\"prediction\", \\\n",
    "                 labelCol=\"quality\",metricName=\"r2\")\n",
    "evaluator.evaluate(predictions)"
   ]
  },
  {
   "cell_type": "code",
   "execution_count": null,
   "metadata": {
    "collapsed": true
   },
   "outputs": [],
   "source": [
    "sc.stop()"
   ]
  }
 ],
 "metadata": {
  "kernelspec": {
   "display_name": "Python 2",
   "language": "python",
   "name": "python2"
  },
  "language_info": {
   "codemirror_mode": {
    "name": "ipython",
    "version": 2
   },
   "file_extension": ".py",
   "mimetype": "text/x-python",
   "name": "python",
   "nbconvert_exporter": "python",
   "pygments_lexer": "ipython2",
   "version": "2.7.14"
  }
 },
 "nbformat": 4,
 "nbformat_minor": 2
}
